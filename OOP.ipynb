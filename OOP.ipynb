{
 "cells": [
  {
   "cell_type": "markdown",
   "metadata": {},
   "source": [
    "Lab 1"
   ]
  },
  {
   "cell_type": "code",
   "execution_count": null,
   "metadata": {
    "ExecuteTime": {
     "end_time": "2021-05-02T21:52:49.944990Z",
     "start_time": "2021-05-02T21:52:49.936209Z"
    }
   },
   "outputs": [],
   "source": [
    "class Driver():\n",
    "    def greet_passenger(self):\n",
    "        print(f\"Hello! I'll be your driver today. My name is {self.first_name, self.last_name}.\")"
   ]
  },
  {
   "cell_type": "code",
   "execution_count": null,
   "metadata": {
    "ExecuteTime": {
     "end_time": "2021-05-02T21:52:49.956631Z",
     "start_time": "2021-05-02T21:52:49.950858Z"
    }
   },
   "outputs": [],
   "source": [
    "driver = Driver()"
   ]
  },
  {
   "cell_type": "code",
   "execution_count": null,
   "metadata": {
    "ExecuteTime": {
     "end_time": "2021-05-02T21:52:49.969372Z",
     "start_time": "2021-05-02T21:52:49.964435Z"
    }
   },
   "outputs": [],
   "source": [
    "driver.first_name = 'Sam'"
   ]
  },
  {
   "cell_type": "code",
   "execution_count": null,
   "metadata": {
    "ExecuteTime": {
     "end_time": "2021-05-02T21:52:49.979014Z",
     "start_time": "2021-05-02T21:52:49.974272Z"
    }
   },
   "outputs": [],
   "source": [
    "driver.last_name = 'Smith'"
   ]
  },
  {
   "cell_type": "code",
   "execution_count": null,
   "metadata": {
    "ExecuteTime": {
     "end_time": "2021-05-02T21:52:49.986313Z",
     "start_time": "2021-05-02T21:52:49.982444Z"
    }
   },
   "outputs": [],
   "source": [
    "driver.miles_driven = 100"
   ]
  },
  {
   "cell_type": "code",
   "execution_count": null,
   "metadata": {
    "ExecuteTime": {
     "end_time": "2021-05-02T21:52:49.993345Z",
     "start_time": "2021-05-02T21:52:49.990011Z"
    }
   },
   "outputs": [],
   "source": [
    "driver.rating = 4.9"
   ]
  },
  {
   "cell_type": "code",
   "execution_count": null,
   "metadata": {
    "ExecuteTime": {
     "end_time": "2021-05-02T21:52:50.002353Z",
     "start_time": "2021-05-02T21:52:49.996985Z"
    }
   },
   "outputs": [],
   "source": [
    "driver.greet_passenger()"
   ]
  },
  {
   "cell_type": "code",
   "execution_count": null,
   "metadata": {
    "ExecuteTime": {
     "end_time": "2021-05-02T21:52:50.013136Z",
     "start_time": "2021-05-02T21:52:50.007891Z"
    }
   },
   "outputs": [],
   "source": [
    "class Passenger():\n",
    "    def yell_name(self):\n",
    "        print(self.first_name.upper(), self.last_name.upper())"
   ]
  },
  {
   "cell_type": "code",
   "execution_count": null,
   "metadata": {
    "ExecuteTime": {
     "end_time": "2021-05-02T21:52:50.022313Z",
     "start_time": "2021-05-02T21:52:50.017818Z"
    }
   },
   "outputs": [],
   "source": [
    "passenger = Passenger()"
   ]
  },
  {
   "cell_type": "code",
   "execution_count": null,
   "metadata": {
    "ExecuteTime": {
     "end_time": "2021-05-02T21:52:50.033808Z",
     "start_time": "2021-05-02T21:52:50.027222Z"
    }
   },
   "outputs": [],
   "source": [
    "passenger.first_name = 'Ron'"
   ]
  },
  {
   "cell_type": "code",
   "execution_count": null,
   "metadata": {
    "ExecuteTime": {
     "end_time": "2021-05-02T21:52:50.041285Z",
     "start_time": "2021-05-02T21:52:50.038117Z"
    }
   },
   "outputs": [],
   "source": [
    "passenger.last_name = 'Burgundy'"
   ]
  },
  {
   "cell_type": "code",
   "execution_count": null,
   "metadata": {
    "ExecuteTime": {
     "end_time": "2021-05-02T21:52:50.117673Z",
     "start_time": "2021-05-02T21:52:50.107903Z"
    }
   },
   "outputs": [],
   "source": [
    "passenger.yell_name()"
   ]
  },
  {
   "cell_type": "markdown",
   "metadata": {},
   "source": [
    "Lab 2"
   ]
  },
  {
   "cell_type": "code",
   "execution_count": null,
   "metadata": {
    "ExecuteTime": {
     "end_time": "2021-05-02T22:07:54.405036Z",
     "start_time": "2021-05-02T22:07:54.399509Z"
    }
   },
   "outputs": [],
   "source": [
    "class Driver():\n",
    "    def __init__(self, first, last, occupation='driver'):\n",
    "        self.first = first\n",
    "        self.last = last\n",
    "        self.occupation = occupation"
   ]
  },
  {
   "cell_type": "code",
   "execution_count": null,
   "metadata": {
    "ExecuteTime": {
     "end_time": "2021-05-02T22:08:12.469681Z",
     "start_time": "2021-05-02T22:08:12.465655Z"
    }
   },
   "outputs": [],
   "source": [
    "driver = Driver('Dale', 'Earnhardt')"
   ]
  },
  {
   "cell_type": "code",
   "execution_count": null,
   "metadata": {
    "ExecuteTime": {
     "end_time": "2021-05-02T22:08:48.439332Z",
     "start_time": "2021-05-02T22:08:48.424386Z"
    }
   },
   "outputs": [],
   "source": [
    "driver.first, driver.last, driver.occupation"
   ]
  },
  {
   "cell_type": "code",
   "execution_count": null,
   "metadata": {
    "ExecuteTime": {
     "end_time": "2021-05-02T22:09:49.125362Z",
     "start_time": "2021-05-02T22:09:49.118534Z"
    }
   },
   "outputs": [],
   "source": [
    "class Passenger():\n",
    "    def __init__(self, first, last, email, rides_taken=0):\n",
    "        self.first = first\n",
    "        self.last = last\n",
    "        self.email = email\n",
    "        self.rides_taken = rides_taken"
   ]
  },
  {
   "cell_type": "code",
   "execution_count": null,
   "metadata": {
    "ExecuteTime": {
     "end_time": "2021-05-02T22:22:57.813086Z",
     "start_time": "2021-05-02T22:22:57.794581Z"
    }
   },
   "outputs": [],
   "source": [
    "jerry = Passenger('Jerry', 'Seinfeld', 'jerry@seinfeld.edu')"
   ]
  },
  {
   "cell_type": "code",
   "execution_count": null,
   "metadata": {
    "ExecuteTime": {
     "end_time": "2021-05-02T22:23:13.733805Z",
     "start_time": "2021-05-02T22:23:13.723169Z"
    }
   },
   "outputs": [],
   "source": [
    "jerry.first, jerry.last, jerry.email, jerry.rides_taken"
   ]
  },
  {
   "cell_type": "markdown",
   "metadata": {},
   "source": [
    "Lab 3"
   ]
  },
  {
   "cell_type": "code",
   "execution_count": null,
   "metadata": {
    "ExecuteTime": {
     "end_time": "2021-05-02T23:06:23.941676Z",
     "start_time": "2021-05-02T23:06:23.917798Z"
    }
   },
   "outputs": [],
   "source": [
    "%load_ext autoreload\n",
    "%autoreload 2"
   ]
  },
  {
   "cell_type": "code",
   "execution_count": null,
   "metadata": {
    "ExecuteTime": {
     "end_time": "2021-05-02T23:13:04.442297Z",
     "start_time": "2021-05-02T23:13:04.420925Z"
    }
   },
   "outputs": [],
   "source": [
    "from school import School"
   ]
  },
  {
   "cell_type": "code",
   "execution_count": null,
   "metadata": {
    "ExecuteTime": {
     "end_time": "2021-05-02T23:13:05.027443Z",
     "start_time": "2021-05-02T23:13:04.991642Z"
    }
   },
   "outputs": [],
   "source": [
    "school = School('Middletown High School')"
   ]
  },
  {
   "cell_type": "code",
   "execution_count": null,
   "metadata": {
    "ExecuteTime": {
     "end_time": "2021-05-02T23:13:05.663322Z",
     "start_time": "2021-05-02T23:13:05.635107Z"
    }
   },
   "outputs": [],
   "source": [
    "school.name"
   ]
  },
  {
   "cell_type": "code",
   "execution_count": null,
   "metadata": {
    "ExecuteTime": {
     "end_time": "2021-05-02T23:13:06.314046Z",
     "start_time": "2021-05-02T23:13:06.286480Z"
    }
   },
   "outputs": [],
   "source": [
    "school.roster"
   ]
  },
  {
   "cell_type": "code",
   "execution_count": null,
   "metadata": {
    "ExecuteTime": {
     "end_time": "2021-05-02T23:13:06.981894Z",
     "start_time": "2021-05-02T23:13:06.952170Z"
    }
   },
   "outputs": [],
   "source": [
    "school.add_student('Peter Piper', 12)"
   ]
  },
  {
   "cell_type": "code",
   "execution_count": null,
   "metadata": {
    "ExecuteTime": {
     "end_time": "2021-05-02T23:13:07.532600Z",
     "start_time": "2021-05-02T23:13:07.507074Z"
    }
   },
   "outputs": [],
   "source": [
    "school.roster"
   ]
  },
  {
   "cell_type": "code",
   "execution_count": null,
   "metadata": {
    "ExecuteTime": {
     "end_time": "2021-05-02T23:13:08.106703Z",
     "start_time": "2021-05-02T23:13:08.066737Z"
    }
   },
   "outputs": [],
   "source": [
    "school.add_student(\"Kelly Slater\", 9)\n",
    "school.add_student(\"Tony Hawk\", 10)\n",
    "school.add_student(\"Ryan Sheckler\", 10)\n",
    "school.add_student(\"Bethany Hamilton\", 11)\n",
    "school.roster"
   ]
  },
  {
   "cell_type": "code",
   "execution_count": null,
   "metadata": {
    "ExecuteTime": {
     "end_time": "2021-05-02T23:13:08.652851Z",
     "start_time": "2021-05-02T23:13:08.634424Z"
    }
   },
   "outputs": [],
   "source": [
    "print(school.grade(10))\n",
    "print(school.grade(11))"
   ]
  },
  {
   "cell_type": "code",
   "execution_count": null,
   "metadata": {
    "ExecuteTime": {
     "end_time": "2021-05-02T23:13:09.171059Z",
     "start_time": "2021-05-02T23:13:09.148970Z"
    }
   },
   "outputs": [],
   "source": [
    "school.sort_roster()"
   ]
  },
  {
   "cell_type": "markdown",
   "metadata": {},
   "source": [
    "lab 4"
   ]
  },
  {
   "cell_type": "code",
   "execution_count": null,
   "metadata": {
    "ExecuteTime": {
     "end_time": "2021-05-03T00:30:33.023731Z",
     "start_time": "2021-05-03T00:30:32.952571Z"
    }
   },
   "outputs": [],
   "source": [
    "%load_ext autoreload\n",
    "%autoreload 2"
   ]
  },
  {
   "cell_type": "code",
   "execution_count": null,
   "metadata": {
    "ExecuteTime": {
     "end_time": "2021-05-03T00:37:40.065320Z",
     "start_time": "2021-05-03T00:37:40.047010Z"
    }
   },
   "outputs": [],
   "source": [
    "from shopping_cart import ShoppingCart"
   ]
  },
  {
   "cell_type": "code",
   "execution_count": null,
   "metadata": {
    "ExecuteTime": {
     "end_time": "2021-05-03T00:37:41.166343Z",
     "start_time": "2021-05-03T00:37:41.137646Z"
    }
   },
   "outputs": [],
   "source": [
    "shopping_cart = ShoppingCart()"
   ]
  },
  {
   "cell_type": "code",
   "execution_count": null,
   "metadata": {
    "ExecuteTime": {
     "end_time": "2021-05-03T00:37:42.109355Z",
     "start_time": "2021-05-03T00:37:42.082128Z"
    }
   },
   "outputs": [],
   "source": [
    "shopping_cart.total, shopping_cart.emp_discount, shopping_cart.items"
   ]
  },
  {
   "cell_type": "code",
   "execution_count": null,
   "metadata": {
    "ExecuteTime": {
     "end_time": "2021-05-03T00:37:42.720582Z",
     "start_time": "2021-05-03T00:37:42.694727Z"
    }
   },
   "outputs": [],
   "source": [
    "shopping_cart.add_item('rainbow sandals', 45.99)\n",
    "shopping_cart.add_item(\"agyle socks\", 10.50)\n",
    "shopping_cart.add_item(\"jeans\", 50.00, 3)"
   ]
  },
  {
   "cell_type": "code",
   "execution_count": null,
   "metadata": {
    "ExecuteTime": {
     "end_time": "2021-05-03T00:37:43.038311Z",
     "start_time": "2021-05-03T00:37:42.996677Z"
    }
   },
   "outputs": [],
   "source": [
    "shopping_cart.total, shopping_cart.emp_discount, shopping_cart.items"
   ]
  },
  {
   "cell_type": "code",
   "execution_count": null,
   "metadata": {
    "ExecuteTime": {
     "end_time": "2021-05-03T00:37:43.078550Z",
     "start_time": "2021-05-03T00:37:43.043220Z"
    }
   },
   "outputs": [],
   "source": [
    "shopping_cart.mean_item_price()"
   ]
  },
  {
   "cell_type": "code",
   "execution_count": null,
   "metadata": {
    "ExecuteTime": {
     "end_time": "2021-05-03T00:37:44.787860Z",
     "start_time": "2021-05-03T00:37:44.747447Z"
    }
   },
   "outputs": [],
   "source": [
    "shopping_cart.median_item_price()"
   ]
  },
  {
   "cell_type": "code",
   "execution_count": null,
   "metadata": {
    "ExecuteTime": {
     "end_time": "2021-05-03T00:37:46.409039Z",
     "start_time": "2021-05-03T00:37:46.386928Z"
    }
   },
   "outputs": [],
   "source": [
    "shopping_cart.apply_discount()"
   ]
  },
  {
   "cell_type": "code",
   "execution_count": null,
   "metadata": {
    "ExecuteTime": {
     "end_time": "2021-05-03T00:37:55.735127Z",
     "start_time": "2021-05-03T00:37:55.713866Z"
    }
   },
   "outputs": [],
   "source": [
    "shopping_cart.void_last_item()"
   ]
  },
  {
   "cell_type": "markdown",
   "metadata": {},
   "source": [
    "Lab 5"
   ]
  },
  {
   "cell_type": "code",
   "execution_count": 1,
   "metadata": {
    "ExecuteTime": {
     "end_time": "2021-05-03T02:28:46.656995Z",
     "start_time": "2021-05-03T02:28:46.647441Z"
    }
   },
   "outputs": [],
   "source": [
    "class Animal:\n",
    "    def __init__(self, name, weight):\n",
    "        self.name = name\n",
    "        self.size = None\n",
    "        self.weight = weight\n",
    "        self.species = None\n",
    "        self.food_type = None\n",
    "        self.nocturnal = None\n",
    "    \n",
    "    def sleep(self):\n",
    "        print('Night' if self.nocturnal else 'Day')\n",
    "    \n",
    "    def eat(self, food):\n",
    "        print(f\"{self.name} the {self.species} thinks {food} is yummy!\"\n",
    "              if (food=='plants'and self.food_type=='herbivore')\n",
    "              or (food=='meat' and self.food_type=='carnivore')\n",
    "              or self.food_type=='omnivore'\n",
    "              else \"I don't eat this!\")"
   ]
  },
  {
   "cell_type": "code",
   "execution_count": 2,
   "metadata": {
    "ExecuteTime": {
     "end_time": "2021-05-03T02:28:47.098931Z",
     "start_time": "2021-05-03T02:28:47.093007Z"
    }
   },
   "outputs": [],
   "source": [
    "class Elephant(Animal):\n",
    "    def __init__(self, name, weight):\n",
    "        super().__init__(name, weight)\n",
    "        self.size = 'enormous'\n",
    "        self.species = 'elephant'\n",
    "        self.food_type = 'herbivore'\n",
    "        self.nocturnal = False"
   ]
  },
  {
   "cell_type": "code",
   "execution_count": 14,
   "metadata": {
    "ExecuteTime": {
     "end_time": "2021-05-03T02:30:08.215191Z",
     "start_time": "2021-05-03T02:30:08.209355Z"
    }
   },
   "outputs": [],
   "source": [
    "class Tiger(Animal):\n",
    "    def __init__(self, name, weight):\n",
    "        super().__init__(name, weight)\n",
    "        self.size = 'large'\n",
    "        self.species = 'tiger'\n",
    "        self.food_type = 'carnivore'\n",
    "        self.nocturnal = True"
   ]
  },
  {
   "cell_type": "code",
   "execution_count": 15,
   "metadata": {
    "ExecuteTime": {
     "end_time": "2021-05-03T02:30:08.792924Z",
     "start_time": "2021-05-03T02:30:08.784809Z"
    }
   },
   "outputs": [],
   "source": [
    "class Raccoon(Animal):\n",
    "    def __init__(self, name, weight):\n",
    "        super().__init__(name, weight)\n",
    "        self.size = 'small'\n",
    "        self.species = 'raccoon'\n",
    "        self.food_type = 'omnivore'\n",
    "        self.nocturnal = True"
   ]
  },
  {
   "cell_type": "code",
   "execution_count": 16,
   "metadata": {
    "ExecuteTime": {
     "end_time": "2021-05-03T02:30:08.957666Z",
     "start_time": "2021-05-03T02:30:08.950147Z"
    }
   },
   "outputs": [],
   "source": [
    "class Gorilla(Animal):\n",
    "    def __init__(self, name, weight):\n",
    "        super().__init__(name, weight)\n",
    "        self.size = 'large'\n",
    "        self.species = 'gorilla'\n",
    "        self.food_type = 'omnivore'\n",
    "        self.nocturnal = False"
   ]
  },
  {
   "cell_type": "code",
   "execution_count": 17,
   "metadata": {
    "ExecuteTime": {
     "end_time": "2021-05-03T02:30:09.400974Z",
     "start_time": "2021-05-03T02:30:09.391105Z"
    }
   },
   "outputs": [],
   "source": [
    "def add_animal_to_zoo(zoo, animal_type, name, weight):\n",
    "    animal = None\n",
    "    \n",
    "    if animal_type=='Elephant':\n",
    "        animal = Elephant(name, weight)\n",
    "    elif animal_type=='Tiger':\n",
    "        animal = Tiger(name, weight)\n",
    "    elif animal_type=='Raccoon':\n",
    "        animal = Raccoon(name, weight)\n",
    "    else:\n",
    "        animal = Gorilla(name, weight)\n",
    "        \n",
    "    zoo.append(animal)\n",
    "        \n",
    "    return zoo\n"
   ]
  },
  {
   "cell_type": "code",
   "execution_count": 19,
   "metadata": {
    "ExecuteTime": {
     "end_time": "2021-05-03T02:30:14.996165Z",
     "start_time": "2021-05-03T02:30:14.988312Z"
    }
   },
   "outputs": [
    {
     "data": {
      "text/plain": [
       "[<__main__.Elephant at 0x110f6a240>,\n",
       " <__main__.Elephant at 0x110f6a828>,\n",
       " <__main__.Raccoon at 0x110f6ae48>,\n",
       " <__main__.Raccoon at 0x110f59f28>,\n",
       " <__main__.Gorilla at 0x110f59198>,\n",
       " <__main__.Tiger at 0x110f59eb8>,\n",
       " <__main__.Tiger at 0x110f59b70>,\n",
       " <__main__.Tiger at 0x110f592e8>]"
      ]
     },
     "execution_count": 19,
     "metadata": {},
     "output_type": "execute_result"
    }
   ],
   "source": [
    "to_create = ['Elephant', 'Elephant', 'Raccoon', 'Raccoon', 'Gorilla', 'Tiger', 'Tiger', 'Tiger']\n",
    "\n",
    "zoo = []\n",
    "\n",
    "for i in to_create:\n",
    "    zoo = add_animal_to_zoo(zoo, i, 'name', 100)\n",
    "    \n",
    "zoo"
   ]
  },
  {
   "cell_type": "code",
   "execution_count": 22,
   "metadata": {
    "ExecuteTime": {
     "end_time": "2021-05-03T02:30:47.698198Z",
     "start_time": "2021-05-03T02:30:47.692147Z"
    }
   },
   "outputs": [],
   "source": [
    "def feed_animals(zoo, time='Day'):\n",
    "    for animal in zoo:\n",
    "        if (time=='Day' and animal.nocturnal==False) or (time=='Night' and animal.nocturnal==True):\n",
    "            if animal.food_type=='carnivore':\n",
    "                animal.eat('meat')\n",
    "            else:\n",
    "                animal.eat('plants')\n"
   ]
  },
  {
   "cell_type": "code",
   "execution_count": 24,
   "metadata": {
    "ExecuteTime": {
     "end_time": "2021-05-03T02:30:57.345962Z",
     "start_time": "2021-05-03T02:30:57.341143Z"
    }
   },
   "outputs": [
    {
     "name": "stdout",
     "output_type": "stream",
     "text": [
      "name the elephant thinks plants is yummy!\n",
      "name the elephant thinks plants is yummy!\n",
      "name the gorilla thinks plants is yummy!\n"
     ]
    }
   ],
   "source": [
    "feed_animals(zoo, time='Day')"
   ]
  },
  {
   "cell_type": "code",
   "execution_count": null,
   "metadata": {},
   "outputs": [],
   "source": []
  }
 ],
 "metadata": {
  "kernelspec": {
   "display_name": "Python 3",
   "language": "python",
   "name": "python3"
  },
  "language_info": {
   "codemirror_mode": {
    "name": "ipython",
    "version": 3
   },
   "file_extension": ".py",
   "mimetype": "text/x-python",
   "name": "python",
   "nbconvert_exporter": "python",
   "pygments_lexer": "ipython3",
   "version": "3.6.9"
  },
  "toc": {
   "base_numbering": 1,
   "nav_menu": {},
   "number_sections": true,
   "sideBar": true,
   "skip_h1_title": false,
   "title_cell": "Table of Contents",
   "title_sidebar": "Contents",
   "toc_cell": false,
   "toc_position": {},
   "toc_section_display": true,
   "toc_window_display": false
  },
  "varInspector": {
   "cols": {
    "lenName": 16,
    "lenType": 16,
    "lenVar": 40
   },
   "kernels_config": {
    "python": {
     "delete_cmd_postfix": "",
     "delete_cmd_prefix": "del ",
     "library": "var_list.py",
     "varRefreshCmd": "print(var_dic_list())"
    },
    "r": {
     "delete_cmd_postfix": ") ",
     "delete_cmd_prefix": "rm(",
     "library": "var_list.r",
     "varRefreshCmd": "cat(var_dic_list()) "
    }
   },
   "types_to_exclude": [
    "module",
    "function",
    "builtin_function_or_method",
    "instance",
    "_Feature"
   ],
   "window_display": false
  }
 },
 "nbformat": 4,
 "nbformat_minor": 4
}
