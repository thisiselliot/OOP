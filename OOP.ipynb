{
 "cells": [
  {
   "cell_type": "markdown",
   "metadata": {},
   "source": [
    "Lab 1"
   ]
  },
  {
   "cell_type": "code",
   "execution_count": null,
   "metadata": {
    "ExecuteTime": {
     "end_time": "2021-05-02T21:52:49.944990Z",
     "start_time": "2021-05-02T21:52:49.936209Z"
    }
   },
   "outputs": [],
   "source": [
    "class Driver():\n",
    "    def greet_passenger(self):\n",
    "        print(f\"Hello! I'll be your driver today. My name is {self.first_name, self.last_name}.\")"
   ]
  },
  {
   "cell_type": "code",
   "execution_count": null,
   "metadata": {
    "ExecuteTime": {
     "end_time": "2021-05-02T21:52:49.956631Z",
     "start_time": "2021-05-02T21:52:49.950858Z"
    }
   },
   "outputs": [],
   "source": [
    "driver = Driver()"
   ]
  },
  {
   "cell_type": "code",
   "execution_count": null,
   "metadata": {
    "ExecuteTime": {
     "end_time": "2021-05-02T21:52:49.969372Z",
     "start_time": "2021-05-02T21:52:49.964435Z"
    }
   },
   "outputs": [],
   "source": [
    "driver.first_name = 'Sam'"
   ]
  },
  {
   "cell_type": "code",
   "execution_count": null,
   "metadata": {
    "ExecuteTime": {
     "end_time": "2021-05-02T21:52:49.979014Z",
     "start_time": "2021-05-02T21:52:49.974272Z"
    }
   },
   "outputs": [],
   "source": [
    "driver.last_name = 'Smith'"
   ]
  },
  {
   "cell_type": "code",
   "execution_count": null,
   "metadata": {
    "ExecuteTime": {
     "end_time": "2021-05-02T21:52:49.986313Z",
     "start_time": "2021-05-02T21:52:49.982444Z"
    }
   },
   "outputs": [],
   "source": [
    "driver.miles_driven = 100"
   ]
  },
  {
   "cell_type": "code",
   "execution_count": null,
   "metadata": {
    "ExecuteTime": {
     "end_time": "2021-05-02T21:52:49.993345Z",
     "start_time": "2021-05-02T21:52:49.990011Z"
    }
   },
   "outputs": [],
   "source": [
    "driver.rating = 4.9"
   ]
  },
  {
   "cell_type": "code",
   "execution_count": null,
   "metadata": {
    "ExecuteTime": {
     "end_time": "2021-05-02T21:52:50.002353Z",
     "start_time": "2021-05-02T21:52:49.996985Z"
    }
   },
   "outputs": [],
   "source": [
    "driver.greet_passenger()"
   ]
  },
  {
   "cell_type": "code",
   "execution_count": null,
   "metadata": {
    "ExecuteTime": {
     "end_time": "2021-05-02T21:52:50.013136Z",
     "start_time": "2021-05-02T21:52:50.007891Z"
    }
   },
   "outputs": [],
   "source": [
    "class Passenger():\n",
    "    def yell_name(self):\n",
    "        print(self.first_name.upper(), self.last_name.upper())"
   ]
  },
  {
   "cell_type": "code",
   "execution_count": null,
   "metadata": {
    "ExecuteTime": {
     "end_time": "2021-05-02T21:52:50.022313Z",
     "start_time": "2021-05-02T21:52:50.017818Z"
    }
   },
   "outputs": [],
   "source": [
    "passenger = Passenger()"
   ]
  },
  {
   "cell_type": "code",
   "execution_count": null,
   "metadata": {
    "ExecuteTime": {
     "end_time": "2021-05-02T21:52:50.033808Z",
     "start_time": "2021-05-02T21:52:50.027222Z"
    }
   },
   "outputs": [],
   "source": [
    "passenger.first_name = 'Ron'"
   ]
  },
  {
   "cell_type": "code",
   "execution_count": null,
   "metadata": {
    "ExecuteTime": {
     "end_time": "2021-05-02T21:52:50.041285Z",
     "start_time": "2021-05-02T21:52:50.038117Z"
    }
   },
   "outputs": [],
   "source": [
    "passenger.last_name = 'Burgundy'"
   ]
  },
  {
   "cell_type": "code",
   "execution_count": null,
   "metadata": {
    "ExecuteTime": {
     "end_time": "2021-05-02T21:52:50.117673Z",
     "start_time": "2021-05-02T21:52:50.107903Z"
    }
   },
   "outputs": [],
   "source": [
    "passenger.yell_name()"
   ]
  },
  {
   "cell_type": "markdown",
   "metadata": {},
   "source": [
    "Lab 2"
   ]
  },
  {
   "cell_type": "code",
   "execution_count": 3,
   "metadata": {
    "ExecuteTime": {
     "end_time": "2021-05-02T22:07:54.405036Z",
     "start_time": "2021-05-02T22:07:54.399509Z"
    }
   },
   "outputs": [],
   "source": [
    "class Driver():\n",
    "    def __init__(self, first, last, occupation='driver'):\n",
    "        self.first = first\n",
    "        self.last = last\n",
    "        self.occupation = occupation"
   ]
  },
  {
   "cell_type": "code",
   "execution_count": 4,
   "metadata": {
    "ExecuteTime": {
     "end_time": "2021-05-02T22:08:12.469681Z",
     "start_time": "2021-05-02T22:08:12.465655Z"
    }
   },
   "outputs": [],
   "source": [
    "driver = Driver('Dale', 'Earnhardt')"
   ]
  },
  {
   "cell_type": "code",
   "execution_count": 7,
   "metadata": {
    "ExecuteTime": {
     "end_time": "2021-05-02T22:08:48.439332Z",
     "start_time": "2021-05-02T22:08:48.424386Z"
    }
   },
   "outputs": [
    {
     "data": {
      "text/plain": [
       "('Dale', 'Earnhardt', 'driver')"
      ]
     },
     "execution_count": 7,
     "metadata": {},
     "output_type": "execute_result"
    }
   ],
   "source": [
    "driver.first, driver.last, driver.occupation"
   ]
  },
  {
   "cell_type": "code",
   "execution_count": 8,
   "metadata": {
    "ExecuteTime": {
     "end_time": "2021-05-02T22:09:49.125362Z",
     "start_time": "2021-05-02T22:09:49.118534Z"
    }
   },
   "outputs": [],
   "source": [
    "class Passenger():\n",
    "    def __init__(self, first, last, email, rides_taken=0):\n",
    "        self.first = first\n",
    "        self.last = last\n",
    "        self.email = email\n",
    "        self.rides_taken = rides_taken"
   ]
  },
  {
   "cell_type": "code",
   "execution_count": 9,
   "metadata": {
    "ExecuteTime": {
     "end_time": "2021-05-02T22:22:57.813086Z",
     "start_time": "2021-05-02T22:22:57.794581Z"
    }
   },
   "outputs": [],
   "source": [
    "jerry = Passenger('Jerry', 'Seinfeld', 'jerry@seinfeld.edu')"
   ]
  },
  {
   "cell_type": "code",
   "execution_count": 10,
   "metadata": {
    "ExecuteTime": {
     "end_time": "2021-05-02T22:23:13.733805Z",
     "start_time": "2021-05-02T22:23:13.723169Z"
    }
   },
   "outputs": [
    {
     "data": {
      "text/plain": [
       "('Jerry', 'Seinfeld', 'jerry@seinfeld.edu', 0)"
      ]
     },
     "execution_count": 10,
     "metadata": {},
     "output_type": "execute_result"
    }
   ],
   "source": [
    "jerry.first, jerry.last, jerry.email, jerry.rides_taken"
   ]
  }
 ],
 "metadata": {
  "kernelspec": {
   "display_name": "Python 3",
   "language": "python",
   "name": "python3"
  },
  "language_info": {
   "codemirror_mode": {
    "name": "ipython",
    "version": 3
   },
   "file_extension": ".py",
   "mimetype": "text/x-python",
   "name": "python",
   "nbconvert_exporter": "python",
   "pygments_lexer": "ipython3",
   "version": "3.6.9"
  },
  "toc": {
   "base_numbering": 1,
   "nav_menu": {},
   "number_sections": true,
   "sideBar": true,
   "skip_h1_title": false,
   "title_cell": "Table of Contents",
   "title_sidebar": "Contents",
   "toc_cell": false,
   "toc_position": {},
   "toc_section_display": true,
   "toc_window_display": false
  },
  "varInspector": {
   "cols": {
    "lenName": 16,
    "lenType": 16,
    "lenVar": 40
   },
   "kernels_config": {
    "python": {
     "delete_cmd_postfix": "",
     "delete_cmd_prefix": "del ",
     "library": "var_list.py",
     "varRefreshCmd": "print(var_dic_list())"
    },
    "r": {
     "delete_cmd_postfix": ") ",
     "delete_cmd_prefix": "rm(",
     "library": "var_list.r",
     "varRefreshCmd": "cat(var_dic_list()) "
    }
   },
   "types_to_exclude": [
    "module",
    "function",
    "builtin_function_or_method",
    "instance",
    "_Feature"
   ],
   "window_display": false
  }
 },
 "nbformat": 4,
 "nbformat_minor": 4
}
